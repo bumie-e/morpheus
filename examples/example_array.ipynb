{
 "cells": [
  {
   "cell_type": "code",
   "execution_count": null,
   "metadata": {},
   "outputs": [],
   "source": [
    "# MIT License (https://opensource.org/licenses/MIT)\n",
    "# Copyright 2018 Ryan Hausen"
   ]
  },
  {
   "cell_type": "markdown",
   "metadata": {},
   "source": [
    "![morpheus](https://cdn.jsdelivr.net/gh/morpheus-project/morpheus/morpheus.svg)"
   ]
  },
  {
   "cell_type": "markdown",
   "metadata": {},
   "source": [
    "This is an example of using Morpheus to classify on an astronomical image."
   ]
  },
  {
   "cell_type": "code",
   "execution_count": null,
   "metadata": {},
   "outputs": [],
   "source": [
    "!pip install morpheus-astro"
   ]
  },
  {
   "cell_type": "code",
   "execution_count": null,
   "metadata": {},
   "outputs": [],
   "source": [
    "import matplotlib.pyplot as plt\n",
    "\n",
    "from morpheus.classifier import Classifier\n",
    "from morpheus.data import example\n",
    "\n",
    "%matplotlib inline"
   ]
  },
  {
   "cell_type": "code",
   "execution_count": null,
   "metadata": {},
   "outputs": [],
   "source": [
    "h, j, v, z = example.get_sample()"
   ]
  },
  {
   "cell_type": "code",
   "execution_count": null,
   "metadata": {},
   "outputs": [],
   "source": [
    "f, axes = plt.subplots(nrows=2, ncols=2, figsize=(10,10))\n",
    "axes = np.flatten(axes)\n",
    "\n",
    "for ax, arr, band in zip(axes, [h,j,v,z], 'HJVZ'):\n",
    "    ax.set_title(f'{band} Image')\n",
    "    ax.imshow(arr, axis='lower', cmap='gray')\n",
    "plt.show()"
   ]
  },
  {
   "cell_type": "code",
   "execution_count": null,
   "metadata": {},
   "outputs": [],
   "source": [
    "morphs = Classifier.classify_arrays(h=h, j=j, v=v, z=z)"
   ]
  },
  {
   "cell_type": "code",
   "execution_count": null,
   "metadata": {},
   "outputs": [],
   "source": [
    "f, axes = plt.subplots(nrows=len(morphs))\n",
    "\n",
    "for i, k in enumerate(morphs):\n",
    "    axes[i].set_title(f'Output: {k}')\n",
    "    axes[i].imshow(morphs[k], origin='lower', vmin=0, vmax=1, cmap='magma')\n",
    "plt.show()"
   ]
  }
 ],
 "metadata": {
  "kernelspec": {
   "display_name": "Python 3",
   "language": "python",
   "name": "python3"
  },
  "language_info": {
   "codemirror_mode": {
    "name": "ipython",
    "version": 3
   },
   "file_extension": ".py",
   "mimetype": "text/x-python",
   "name": "python",
   "nbconvert_exporter": "python",
   "pygments_lexer": "ipython3",
   "version": "3.6.4"
  }
 },
 "nbformat": 4,
 "nbformat_minor": 2
}

{
 "cells": [
  {
   "cell_type": "code",
   "execution_count": null,
   "metadata": {},
   "outputs": [],
   "source": [
    "# MIT License (https://opensource.org/licenses/MIT)\n",
    "# Copyright 2018 Ryan Hausen"
   ]
  },
  {
   "cell_type": "markdown",
   "metadata": {},
   "source": [
    "![morpheus](https://cdn.jsdelivr.net/gh/morpheus-project/morpheus/morpheus.svg)\n",
    "\n",
    "\n",
    "\n",
    "This notebook can be run interactively in Google Colab\n",
    "[![Open In Colab](https://colab.research.google.com/assets/colab-badge.svg)](https://colab.research.google.com/github/morpheus-project/morpheus/blob/master/examples/example_array.ipynb)"
   ]
  },
  {
   "cell_type": "markdown",
   "metadata": {},
   "source": [
    "This is an example of using Morpheus to classify on a astronomical image."
   ]
  },
  {
   "cell_type": "code",
   "execution_count": null,
   "metadata": {},
   "outputs": [],
   "source": [
    "!pip install morpheus-astro"
   ]
  },
  {
   "cell_type": "code",
   "execution_count": null,
   "metadata": {},
   "outputs": [],
   "source": [
    "import numpy as np\n",
    "import matplotlib.pyplot as plt\n",
    "\n",
    "from morpheus.classifier import Classifier\n",
    "from morpheus.data import example\n",
    "\n",
    "%matplotlib inline"
   ]
  },
  {
   "cell_type": "markdown",
   "metadata": {},
   "source": [
    "### First get a sample image to examine.\n",
    "\n",
    "This is a sample taken from GOODS."
   ]
  },
  {
   "cell_type": "code",
   "execution_count": null,
   "metadata": {},
   "outputs": [],
   "source": [
    "h, j, v, z = example.get_sample()"
   ]
  },
  {
   "cell_type": "code",
   "execution_count": null,
   "metadata": {},
   "outputs": [],
   "source": [
    "f, axes = plt.subplots(nrows=2, ncols=2, figsize=(10,10))\n",
    "axes = np.array(axes).flatten()\n",
    "\n",
    "for ax, arr, band in zip(axes, [h,j,v,z], 'HJVZ'):\n",
    "    ax.set_title(f'{band} Image')\n",
    "    ax.imshow(arr, origin='lower', cmap='gray')\n",
    "    ax.grid(None)\n",
    "plt.show()"
   ]
  },
  {
   "cell_type": "markdown",
   "metadata": {},
   "source": [
    "### Classify image\n",
    "\n",
    "Use [Classifer.classify_arrays](https://morpheus-astro.readthedocs.io/en/latest/source/morpheus.html#morpheus.classifier.Classifier) to classify a nummpy array in memory. \n",
    "See documentation for classifying images from disk.\n",
    "\n",
    "The output is a dictionary that contains a mapping for each pixel which representss the \n",
    "probability that a pixel belongs to one of the following classes:\n",
    "\n",
    "- Spheroid\n",
    "- Disk\n",
    "- Irregular\n",
    "- Point Source (Compact)\n",
    "- Background\n",
    "\n",
    "It also contains a mapping for `n`, which indicates how many times a classification was\n",
    "recorded for that pixel"
   ]
  },
  {
   "cell_type": "code",
   "execution_count": null,
   "metadata": {},
   "outputs": [],
   "source": [
    "morphs = Classifier.classify_arrays(h=h, j=j, v=v, z=z)"
   ]
  },
  {
   "cell_type": "code",
   "execution_count": null,
   "metadata": {},
   "outputs": [],
   "source": [
    "f, axes = plt.subplots(nrows=3, ncols=2, figsize=(10, 15))\n",
    "axes = np.array(axes).flatten()\n",
    "\n",
    "for i, k in enumerate(morphs):\n",
    "    axes[i].set_title(f'Output: {k}')\n",
    "    axes[i].imshow(morphs[k], origin='lower', vmin=0, vmax=1, cmap='magma')\n",
    "    axes[i].grid(None)\n",
    "plt.show()"
   ]
  },
  {
   "cell_type": "markdown",
   "metadata": {},
   "source": [
    "### Make a Segmap\n",
    "\n",
    "Use [Classifier.make_segmap](https://morpheus-astro.readthedocs.io/en/latest/source/morpheus.html#morpheus.classifier.Classifier.make_segmap) \n",
    "to generate a segmentation map using the output and the H band flux."
   ]
  },
  {
   "cell_type": "code",
   "execution_count": null,
   "metadata": {},
   "outputs": [],
   "source": [
    "# the mask tells the segmentation mapping algorithm to ignore\n",
    "# the areas unclassified as a result of the windowing classification\n",
    "# method used.\n",
    "mask = np.zeros_like(h, np.int)\n",
    "mask[5:-5, 5:-5] = 1\n",
    "\n",
    "segmap = Classifier.make_segmap(morphs, h, mask=mask)\n",
    "\n",
    "plt.figure(figsize=(10, 10))\n",
    "plt.imshow(segmap, origin='lower', cmap='gray')\n",
    "plt.grid(None)\n",
    "plt.show()"
   ]
  },
  {
   "cell_type": "markdown",
   "metadata": {},
   "source": [
    "### Visualize the Morphological Classifications Using Color\n",
    "\n",
    "Use [Classifier.colorize_rank_vote_output](https://morpheus-astro.readthedocs.io/en/latest/source/morpheus.html#morpheus.classifier.Classifier.colorize_rank_vote_output)  to make an RGB. The colors in the output have the following meanings:\n",
    "\n",
    "Red = Spheroid\n",
    "Blue = Disk\n",
    "Green = Irregular\n",
    "Yellow = Point Source (compact)\n",
    "Back = Background\n",
    "\n",
    "Note when Morpheus isn't doesn't output a strong classification for any one class they are colored white.\n",
    "\n",
    "For more inforamtion on the coloring scheme see the [documentation](https://morpheus-astro.readthedocs.io/en/latest/source/morpheus.html#morpheus.classifier.Classifier.colorize_rank_vote_output)."
   ]
  },
  {
   "cell_type": "code",
   "execution_count": null,
   "metadata": {},
   "outputs": [],
   "source": [
    "rgb = Classifier.colorize_rank_vote_output(morphs)\n",
    "plt.imshow(rgb)\n",
    "plt.grid(None)\n",
    "plt.show()"
   ]
  }
 ],
 "metadata": {
  "kernelspec": {
   "display_name": "Python 3",
   "language": "python",
   "name": "python3"
  },
  "language_info": {
   "codemirror_mode": {
    "name": "ipython",
    "version": 3
   },
   "file_extension": ".py",
   "mimetype": "text/x-python",
   "name": "python",
   "nbconvert_exporter": "python",
   "pygments_lexer": "ipython3",
   "version": "3.6.4"
  }
 },
 "nbformat": 4,
 "nbformat_minor": 2
}
